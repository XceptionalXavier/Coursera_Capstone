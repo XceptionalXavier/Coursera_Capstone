{
 "cells": [
  {
   "cell_type": "markdown",
   "metadata": {
    "collapsed": true
   },
   "source": [
    "### Howdy!\n",
    "#### This Notebook is set up for the purpose of IBM Coursera capstone project - The battle of Neighboorhood!\n",
    "##### Lets get things ready!!!"
   ]
  },
  {
   "cell_type": "code",
   "execution_count": 4,
   "metadata": {},
   "outputs": [
    {
     "name": "stderr",
     "output_type": "stream",
     "text": [
      "UsageError: unrecognized arguments: #to show our plot as output on the notebook\n"
     ]
    }
   ],
   "source": [
    "import numpy as np #numpy for scientific calculations\n",
    "import scipy as sp #scipy for advanced calculations of calculus, integration, etc\n",
    "import pandas as pd # our data analysis library that takes care of reading to exploration of our dataset\n",
    "import matplotlib.pyplot as plt #Visualization library\n",
    "import seaborn as sns #Visualization library based on matplotlib\n",
    "#import cufflinks as cf # Visualization library\n",
    "%matplotlib inline   #to show our plot as output on the notebook\n",
    "#cf.go_offline()  #using cufflinks offline\n"
   ]
  },
  {
   "cell_type": "code",
   "execution_count": 5,
   "metadata": {},
   "outputs": [
    {
     "name": "stdout",
     "output_type": "stream",
     "text": [
      " Hello Capstone Project Course!\n"
     ]
    }
   ],
   "source": [
    "print(\" Hello Capstone Project Course!\")"
   ]
  },
  {
   "cell_type": "code",
   "execution_count": null,
   "metadata": {},
   "outputs": [],
   "source": []
  }
 ],
 "metadata": {
  "kernelspec": {
   "display_name": "Python 3.5",
   "language": "python",
   "name": "python3"
  },
  "language_info": {
   "codemirror_mode": {
    "name": "ipython",
    "version": 3
   },
   "file_extension": ".py",
   "mimetype": "text/x-python",
   "name": "python",
   "nbconvert_exporter": "python",
   "pygments_lexer": "ipython3",
   "version": "3.5.5"
  }
 },
 "nbformat": 4,
 "nbformat_minor": 1
}
